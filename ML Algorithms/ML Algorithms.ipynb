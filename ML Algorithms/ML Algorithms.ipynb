{
 "cells": [
  {
   "cell_type": "markdown",
   "id": "e8a05b00",
   "metadata": {},
   "source": [
    "## Machine Learning Algorithms"
   ]
  },
  {
   "cell_type": "markdown",
   "id": "b060597e",
   "metadata": {},
   "source": [
    "This notebook contains of my work done by learning from YouTube playlist that contains algorithms of ML using python.\n",
    "The Link for Playlist I'm referring to is : https://www.youtube.com/playlist?list=PLEiEAq2VkUULNa6MHQAZSOBxzB6HHFXj4"
   ]
  },
  {
   "cell_type": "markdown",
   "id": "cdf2f1a8",
   "metadata": {},
   "source": [
    "## Linear Regression"
   ]
  },
  {
   "cell_type": "code",
   "execution_count": null,
   "id": "b656776d",
   "metadata": {},
   "outputs": [],
   "source": []
  }
 ],
 "metadata": {
  "kernelspec": {
   "display_name": "Python 3 (ipykernel)",
   "language": "python",
   "name": "python3"
  },
  "language_info": {
   "codemirror_mode": {
    "name": "ipython",
    "version": 3
   },
   "file_extension": ".py",
   "mimetype": "text/x-python",
   "name": "python",
   "nbconvert_exporter": "python",
   "pygments_lexer": "ipython3",
   "version": "3.10.5"
  }
 },
 "nbformat": 4,
 "nbformat_minor": 5
}
