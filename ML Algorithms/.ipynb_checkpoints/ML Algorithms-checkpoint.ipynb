{
 "cells": [
  {
   "cell_type": "markdown",
   "id": "103beb43",
   "metadata": {},
   "source": [
    "## Machine Learning Workshop by DevTown"
   ]
  },
  {
   "cell_type": "markdown",
   "id": "c540c64f",
   "metadata": {},
   "source": [
    "This notebook contains of my work done by learning from YouTube playlist that contains the workshop of ML using python.\n",
    "The Link for Playlist I'm referring to is : https://www.youtube.com/playlist?list=PL7zl8TDRnbukKs3EvUhEFaHsRv6o_Ndbt"
   ]
  },
  {
   "cell_type": "code",
   "execution_count": null,
   "id": "25a76645",
   "metadata": {},
   "outputs": [],
   "source": []
  }
 ],
 "metadata": {
  "kernelspec": {
   "display_name": "Python 3 (ipykernel)",
   "language": "python",
   "name": "python3"
  },
  "language_info": {
   "codemirror_mode": {
    "name": "ipython",
    "version": 3
   },
   "file_extension": ".py",
   "mimetype": "text/x-python",
   "name": "python",
   "nbconvert_exporter": "python",
   "pygments_lexer": "ipython3",
   "version": "3.10.5"
  }
 },
 "nbformat": 4,
 "nbformat_minor": 5
}
