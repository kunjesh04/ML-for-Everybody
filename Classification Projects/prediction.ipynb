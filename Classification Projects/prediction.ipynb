{
 "cells": [
  {
   "cell_type": "markdown",
   "metadata": {},
   "source": [
    "## Predict from Azure Endpoint"
   ]
  },
  {
   "cell_type": "code",
   "execution_count": 47,
   "metadata": {},
   "outputs": [],
   "source": [
    "import json\n",
    "import requests"
   ]
  },
  {
   "cell_type": "code",
   "execution_count": 54,
   "metadata": {},
   "outputs": [
    {
     "name": "stdout",
     "output_type": "stream",
     "text": [
      "{'result': [1]}\n",
      "Prediction : 1\n"
     ]
    }
   ],
   "source": [
    "# Define the input data as list\n",
    "inp_data = [5, 166, 72, 19, 175, 25.8, 0.587, 81]\n",
    "\n",
    "# Converting data in a json string\n",
    "inp_data_json = json.dumps({'data': [inp_data]})\n",
    "\n",
    "scoring_uri = 'http://383f21b4-4d8e-43be-b74a-1b993c5ac3bb.eastus.azurecontainer.io/score'\n",
    "\n",
    "# Defining the content type\n",
    "headers = {\"Content-Type\" : \"application/json\"}\n",
    "\n",
    "# Sending an HTTP post request to the endpoint\n",
    "response = requests.post(scoring_uri, data=inp_data_json, headers=headers)\n",
    "\n",
    "# Checking the response code \n",
    "if response.status_code == 200:\n",
    "    # Parse the JSON response\n",
    "    result = json.loads(response.json())\n",
    "    print(result)\n",
    "    # Extracting the prediction (result) from the response \n",
    "    prediction = result[\"result\"][0]\n",
    "    print(f'Prediction : {prediction}')\n",
    "else:\n",
    "    print(f'Error : {response.text}')"
   ]
  },
  {
   "cell_type": "code",
   "execution_count": null,
   "metadata": {},
   "outputs": [],
   "source": []
  }
 ],
 "metadata": {
  "kernelspec": {
   "display_name": "Python 3 (ipykernel)",
   "language": "python",
   "name": "python3"
  },
  "language_info": {
   "codemirror_mode": {
    "name": "ipython",
    "version": 3
   },
   "file_extension": ".py",
   "mimetype": "text/x-python",
   "name": "python",
   "nbconvert_exporter": "python",
   "pygments_lexer": "ipython3",
   "version": "3.10.5"
  }
 },
 "nbformat": 4,
 "nbformat_minor": 2
}
